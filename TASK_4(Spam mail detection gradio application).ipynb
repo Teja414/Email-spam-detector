{
 "cells": [
  {
   "cell_type": "code",
   "execution_count": 47,
   "id": "f2b26603",
   "metadata": {},
   "outputs": [],
   "source": [
    "import gradio as gr\n",
    "import joblib"
   ]
  },
  {
   "cell_type": "code",
   "execution_count": 48,
   "id": "a43c31cb",
   "metadata": {},
   "outputs": [],
   "source": [
    "load_model,load_vectorizer = joblib.load('spam_detection.pkl')"
   ]
  },
  {
   "cell_type": "code",
   "execution_count": 50,
   "id": "11cb27de",
   "metadata": {},
   "outputs": [],
   "source": [
    "def classify(text):\n",
    "    temp = [text]\n",
    "    temp_data_F = load_vectorizer.transform(temp)\n",
    "    t = load_model.predict(temp_data_F)[0]\n",
    "    if(t == 0):\n",
    "        return(\"Not A SPAM\")\n",
    "    else:\n",
    "        return(\"SPAM\")"
   ]
  },
  {
   "cell_type": "code",
   "execution_count": 60,
   "id": "25a2f836",
   "metadata": {},
   "outputs": [
    {
     "name": "stdout",
     "output_type": "stream",
     "text": [
      "Running on local URL:  http://127.0.0.1:7863\n",
      "\n",
      "To create a public link, set `share=True` in `launch()`.\n"
     ]
    },
    {
     "data": {
      "text/html": [
       "<div><iframe src=\"http://127.0.0.1:7863/\" width=\"100%\" height=\"500\" allow=\"autoplay; camera; microphone; clipboard-read; clipboard-write;\" frameborder=\"0\" allowfullscreen></iframe></div>"
      ],
      "text/plain": [
       "<IPython.core.display.HTML object>"
      ]
     },
     "metadata": {},
     "output_type": "display_data"
    },
    {
     "data": {
      "text/plain": []
     },
     "execution_count": 60,
     "metadata": {},
     "output_type": "execute_result"
    }
   ],
   "source": [
    "gr.Interface(fn=classify,inputs='text',outputs=\"text\",title = \"SPAM EMAIL DETECTOR\").launch()"
   ]
  },
  {
   "cell_type": "code",
   "execution_count": 49,
   "id": "606b334a",
   "metadata": {},
   "outputs": [
    {
     "name": "stdout",
     "output_type": "stream",
     "text": [
      "SPAM\n"
     ]
    }
   ],
   "source": [
    "t =\"Free entry in 2 a wkly comp to win FA Cup final tkts 21st May 2005. Text FA to 87121 to receive entry question(std txt rate)T&C's apply 08452810075over18's\"\n",
    "temp = [t]\n",
    "temp_data_F = load_vectorizer.transform(temp)\n",
    "t = load_model.predict(temp_data_F)[0]\n",
    "if(t == 0):\n",
    "    print(\"Not A SPAM\")\n",
    "else:\n",
    "    print(\"SPAM\")"
   ]
  },
  {
   "cell_type": "code",
   "execution_count": null,
   "id": "a821727d",
   "metadata": {},
   "outputs": [],
   "source": []
  }
 ],
 "metadata": {
  "kernelspec": {
   "display_name": "Python 3 (ipykernel)",
   "language": "python",
   "name": "python3"
  },
  "language_info": {
   "codemirror_mode": {
    "name": "ipython",
    "version": 3
   },
   "file_extension": ".py",
   "mimetype": "text/x-python",
   "name": "python",
   "nbconvert_exporter": "python",
   "pygments_lexer": "ipython3",
   "version": "3.10.2"
  }
 },
 "nbformat": 4,
 "nbformat_minor": 5
}
